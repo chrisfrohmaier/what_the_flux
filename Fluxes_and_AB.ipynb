{
 "cells": [
  {
   "cell_type": "markdown",
   "metadata": {},
   "source": [
    "<script type=\"text/javascript\" async\n",
    "  src=\"https://cdn.mathjax.org/mathjax/latest/MathJax.js?config=TeX-MML-AM_CHTML\">\n",
    "</script>\n",
    "# Flux\n",
    "\n",
    "The luminosity of an object can be though of as the total amount of energy radiating spherically from the source across all wavelengths per unit time (units: J s$^{-1}$ or W).\n",
    "\n",
    "However, astronomers are at large distances from their sources, where it is impossible to collect and measure all this energy. We only ever see a fraction of this energy depending on how far away from the source we are and how large our detector is.\n",
    "\n",
    "We call this the Flux, and it has units of J s$^{-1}$ m$^{-2}$ (or W m$^{-2}$). Flux follows the inverse sqaure law, hence when we are 2x further from a source we collect 4x less energy.\n",
    "\n",
    "For every square meter (or cm) of the detector located at R meters (or cm) from a spherically radiating source of luminosity L, we measure flux of\n",
    "\n",
    "\\begin{equation*}\n",
    "\\mathrm{F} = \\frac{\\mathrm{L}}{4 \\pi \\mathrm{R}^{2}}\n",
    "\\end{equation*}\n",
    "\n",
    "However, I previously said that the luminosity is measured across all wavelengths thus, our above calculation of flux is also across all wavelengths. This is known as _bolometric flux_ and, from an engineering perspective, it is impossible to build a detector to measure this. In reality astronomers will use a detector to operate across a certain wavelength (energy) range. Bolometric flux is\n",
    "\n",
    "\\begin{equation*}\n",
    "\\mathrm{F}_{\\mathrm{bolometric}} = \\int_{0}^{\\infty} \\mathrm{F}_{\\nu}\\  \\mathrm{d}\\nu =  \\int_{0}^{\\infty} \\mathrm{F}_{\\lambda}\\  \\mathrm{d}\\lambda\n",
    "\\end{equation*}\n",
    "\n",
    "\n",
    "where $\\mathrm{F}_{\\nu}$ is in frequency units of W m$^{-2}$ Hz$^{-1}$ and $\\mathrm{F}_{\\lambda}$ is in wavelength units of W m$^{-2}$ A$^{-1}$ (A is the unit of angstrom, 1A = 10$^{-10}$m)\n",
    "\n",
    "We can calculate our flux through a certain frequency or wavelength range by changing the limits of our integration. This is useful in the context of real-world measurement where our detectors have a known sensitivity window.\n",
    "\n",
    "## Converting units\n",
    "\n",
    "Sometimes we are given measurements in one unit and require a conversion to a different one.\n",
    "\n",
    "\\begin{equation*}\n",
    "\\mathrm{F}_{\\nu}\\  \\mathrm{d}\\nu =  \\mathrm{F}_{\\lambda}\\  \\mathrm{d}\\lambda\n",
    "\\end{equation*}\n",
    "\n",
    "we also know that\n",
    "\n",
    "\\begin{equation*}\n",
    "\\mathrm{c} =  \\lambda\\nu\n",
    "\\end{equation*}\n",
    "\n",
    "therefore:\n",
    "\n",
    "\\begin{equation*}\n",
    "\\mathrm{F}_{\\lambda} =  \\mathrm{F}_{\\nu}\\  \\frac{\\lambda^{2}}{c}\n",
    "\\end{equation*}\n",
    "\n",
    "and\n",
    "\n",
    "\\begin{equation*}\n",
    "\\mathrm{F}_{\\nu} =  \\mathrm{F}_{\\lambda}\\  \\frac{c}{\\lambda^{2}}\n",
    "\\end{equation*}\n",
    "\n",
    "## cgs units\n",
    "\n",
    "The centimeter-gram-second units are an SI system. I don't know much about the origin, only that astronomers like it and you have to get used to it. Your friends from other STEM disciplines will mock you for measuring the speed of light in cm/s, and literally no-one educated this side of the Cold-War will know what an erg is. So here are some useful conversions:\n",
    "\n",
    "| Quantity            \t| Quantity symbol \t| CGS unit name         \t| Unit    \t| Unit definition    \t| Unit definition \t|\n",
    "|---------------------\t|-----------------\t|-----------------------\t|---------\t|--------------------\t|-----------------\t|\n",
    "| length, position    \t| L, x            \t| centimetre            \t| cm      \t| 1/100 of metre     \t| = 10−2 m        \t|\n",
    "| mass                \t| m               \t| gram                  \t| g       \t| 1/1000 of kilogram \t| = 10−3 kg       \t|\n",
    "| time                \t| t               \t| second                \t| s       \t| 1 second           \t| = 1 s           \t|\n",
    "| velocity            \t| v               \t| centimetre per second \t| cm/s    \t| cm/s               \t| = 10−2 m/s      \t|\n",
    "| acceleration        \t| a               \t| gal                   \t| Gal     \t| cm/s2              \t| = 10−2 m/s2     \t|\n",
    "| force               \t| F               \t| dyne                  \t| dyn     \t| g⋅cm/s2            \t| = 10−5 N        \t|\n",
    "| energy              \t| E               \t| erg                   \t| erg     \t| g⋅cm2/s2           \t| = 10−7 J        \t|\n",
    "| power               \t| P               \t| erg per second        \t| erg/s   \t| g⋅cm2/s3           \t| = 10−7 W        \t|\n",
    "| pressure            \t| p               \t| barye                 \t| Ba      \t| g/(cm⋅s2)          \t| = 10−1 Pa       \t|\n",
    "| dynamic viscosity   \t| μ               \t| poise                 \t| P       \t| g/(cm⋅s)           \t| = 10−1 Pa⋅s     \t|\n",
    "| kinematic viscosity \t| ν               \t| stokes                \t| St      \t| cm2/s              \t| = 10−4 m2/s     \t|\n",
    "| wavenumber          \t| k               \t| kayser (K)            \t| cm−1[8] \t| cm−1               \t| = 100 m−1       \t|\n",
    "\n",
    "**Important Note:** Astronomers are always using the Jansky (Jy), which is a unit of spectral flux density.\n",
    "\n",
    "1Jy = 10$^{-26}$ W m$^{-2}$ Hz$^{-1}$\n",
    "\n",
    "or in cgs units:\n",
    "\n",
    "1Jy = 10$^{-23}$ erg s$^{-1}$ cm$^{-2}$ Hz$^{-1}$"
   ]
  },
  {
   "cell_type": "code",
   "execution_count": 1,
   "metadata": {
    "collapsed": true
   },
   "outputs": [],
   "source": [
    "## Here we load up some modules we will need for this work\n",
    "import numpy as np\n",
    "import astropy.units as u\n",
    "import astropy.constants as const\n",
    "import matplotlib.pyplot as plt\n",
    "%matplotlib inline"
   ]
  },
  {
   "cell_type": "code",
   "execution_count": 2,
   "metadata": {
    "collapsed": true
   },
   "outputs": [],
   "source": [
    "## F_nu is our reference specrtral flux density\n",
    "F_nu = 3631e-23*(u.erg/u.s/u.cm**2/u.Hz) #in cgs erg/s/cm^2/Hz\n",
    "\n",
    "## The wavelength range we will perform our calculations over\n",
    "## strictly speaking this should be 0 to infinty, but who has time for that?\n",
    "## np.linspace(lower, upper, num_steps)\n",
    "wavelength = np.linspace(1000,13000,10000)*u.AA #u.AA tells astropy these are in units of angstrom"
   ]
  },
  {
   "cell_type": "code",
   "execution_count": 3,
   "metadata": {
    "collapsed": true
   },
   "outputs": [],
   "source": [
    "## Converting F_nu to F_lambda\n",
    "F_lam = (F_nu*const.c.cgs/((wavelength)**2.)).to(u.erg/u.s/u.cm**2/u.AA)"
   ]
  },
  {
   "cell_type": "code",
   "execution_count": 4,
   "metadata": {},
   "outputs": [
    {
     "data": {
      "text/latex": [
       "$[1.0885464 \\times 10^{-7},~1.0859383 \\times 10^{-7},~1.0833396 \\times 10^{-7},~\\dots,~6.4434822 \\times 10^{-10},~6.4422925 \\times 10^{-10},~6.441103 \\times 10^{-10}] \\; \\mathrm{\\frac{erg}{\\mathring{A}\\,s\\,cm^{2}}}$"
      ],
      "text/plain": [
       "<Quantity [1.08854641e-07, 1.08593834e-07, 1.08333962e-07, ...,\n",
       "           6.44348220e-10, 6.44229246e-10, 6.44110305e-10] erg / (Angstrom cm2 s)>"
      ]
     },
     "execution_count": 4,
     "metadata": {},
     "output_type": "execute_result"
    }
   ],
   "source": [
    "F_lam"
   ]
  },
  {
   "cell_type": "code",
   "execution_count": 5,
   "metadata": {
    "collapsed": true
   },
   "outputs": [],
   "source": [
    "## Converting to Photon counts - \n",
    "F_cnt = (F_lam.value*wavelength.value)/(const.c.cgs.value*const.h.cgs.value)"
   ]
  },
  {
   "cell_type": "code",
   "execution_count": 6,
   "metadata": {
    "collapsed": true
   },
   "outputs": [],
   "source": [
    "F_cnt2 = ((F_lam*wavelength)/(const.c.cgs*const.h.cgs)).to(1/u.s/u.cm**2/u.AA)"
   ]
  },
  {
   "cell_type": "code",
   "execution_count": 7,
   "metadata": {},
   "outputs": [
    {
     "data": {
      "text/plain": [
       "547986963325.2474"
      ]
     },
     "execution_count": 7,
     "metadata": {},
     "output_type": "execute_result"
    }
   ],
   "source": [
    "F_cnt[0]"
   ]
  },
  {
   "cell_type": "code",
   "execution_count": 8,
   "metadata": {},
   "outputs": [
    {
     "data": {
      "text/latex": [
       "$5479.8696 \\; \\mathrm{\\frac{1}{\\mathring{A}\\,s\\,cm^{2}}}$"
      ],
      "text/plain": [
       "<Quantity 5479.86963325 1 / (Angstrom cm2 s)>"
      ]
     },
     "execution_count": 8,
     "metadata": {},
     "output_type": "execute_result"
    }
   ],
   "source": [
    "F_cnt2[0]"
   ]
  },
  {
   "cell_type": "code",
   "execution_count": 9,
   "metadata": {},
   "outputs": [
    {
     "data": {
      "text/latex": [
       "$1 \\times 10^{8} \\; \\mathrm{cm^{2}\\,\\mathring{A}\\,s}$"
      ],
      "text/plain": [
       "<Quantity 1.e+08 Angstrom cm2 s>"
      ]
     },
     "execution_count": 9,
     "metadata": {},
     "output_type": "execute_result"
    }
   ],
   "source": [
    "F_cnt[0]/F_cnt2[0]"
   ]
  },
  {
   "cell_type": "code",
   "execution_count": 10,
   "metadata": {
    "collapsed": true
   },
   "outputs": [],
   "source": [
    "## We are loading up our filters here, I'm using the DES filters for this demo\n",
    "## The first column MUST be wavelngth\n",
    "## The second column MUST be the system transmission fraction\n",
    "desg_w, desg_t = np.loadtxt('./filters/DES_20130322_g.fil', unpack=True, dtype=float,skiprows=1)\n",
    "desr_w, desr_t = np.loadtxt('./filters/DES_20130322_r.fil', unpack=True, dtype=float,skiprows=1)\n",
    "desi_w, desi_t = np.loadtxt('./filters/DES_20130322_i.fil', unpack=True, dtype=float,skiprows=1)\n",
    "desz_w, desz_t = np.loadtxt('./filters/DES_20130322_z.fil', unpack=True, dtype=float,skiprows=1)"
   ]
  },
  {
   "cell_type": "code",
   "execution_count": 11,
   "metadata": {
    "collapsed": true
   },
   "outputs": [],
   "source": [
    "## In this cell I perform an interpolation to get the \n",
    "## DES transmission funciton onto the wavelength space.\n",
    "## The np.interp function takes my known values for the\n",
    "## DES filter range (desg_w) and transmission function (desg_t)\n",
    "## and then maps that onto our previously defined wavelength\n",
    "## range. We have to do this because our F_lam is also defined\n",
    "## over this rage, so we can multiply F_lam by our transmission\n",
    "## function. So filt_int is 0 everywhere outside the filter and\n",
    "## scaled accordingly inside the filter\n",
    "## np.trapz then integrates through the filter to get the total\n",
    "## flux. Easy!\n",
    "\n",
    "## g\n",
    "# filt_int = np.interp(wavelength, desg_w,desg_t)\n",
    "# filtspec = filt_int*F_lam\n",
    "# fluxg = np.trapz(filtspec,wavelength)\n",
    "\n",
    "# ##r\n",
    "# filt_int = np.interp(wavelength, desr_w,desr_t)\n",
    "# filtspec = filt_int*F_lam\n",
    "# fluxr = np.trapz(filtspec,wavelength)\n",
    "\n",
    "# ##i\n",
    "# filt_int = np.interp(wavelength, desi_w,desi_t)\n",
    "# filtspec = filt_int*F_lam\n",
    "# fluxi = np.trapz(filtspec,wavelength)\n",
    "\n",
    "# ##z\n",
    "# filt_int = np.interp(wavelength, desz_w,desz_t)\n",
    "# filtspec = filt_int*F_lam\n",
    "# fluxz = np.trapz(filtspec,wavelength)\n",
    "\n",
    "## Rather than define this for each filter I should write a generic function to do it.\n",
    "## A job for V2\n",
    "\n",
    "def fluxLamFilter(wave, filt_wave, fil_trans, F_lam=F_lam):\n",
    "    filt_int = np.interp(wave, filt_wave, fil_trans, left=0, right=0)\n",
    "    filtspec = filt_int*F_lam\n",
    "    fluxFilt = np.trapz(filtspec,wave)\n",
    "    if type(fluxFilt)==u.quantity.Quantity:\n",
    "        return fluxFilt.value\n",
    "    else: return float(fluxFilt)\n",
    "\n",
    "def countFilter(wave, filt_wave, fil_trans, F_cnt=F_cnt):\n",
    "    filt_int = np.interp(wave, filt_wave, fil_trans)\n",
    "    filtspec = filt_int*F_cnt\n",
    "    countFilt = np.trapz(filtspec,wave)\n",
    "    if type(countFilt)==u.quantity.Quantity:\n",
    "        return countFilt.value\n",
    "    else: return float(countFilt)"
   ]
  },
  {
   "cell_type": "code",
   "execution_count": 13,
   "metadata": {
    "collapsed": true
   },
   "outputs": [],
   "source": [
    "fluxg = fluxLamFilter(wavelength,desg_w,desg_t)\n",
    "fluxr = fluxLamFilter(wavelength,desr_w,desr_t)\n",
    "fluxi = fluxLamFilter(wavelength,desi_w,desi_t)\n",
    "fluxz = fluxLamFilter(wavelength,desz_w,desz_t)\n",
    "\n",
    "#fluxSDSSr = fluxLamFilter(wavelength,sdssr.wave,sdssr.trans)\n",
    "#fluxB = fluxLamFilter(wavelength,B.wave,B.trans)"
   ]
  },
  {
   "cell_type": "code",
   "execution_count": 14,
   "metadata": {},
   "outputs": [
    {
     "data": {
      "text/plain": [
       "52842417741185.38"
      ]
     },
     "execution_count": 14,
     "metadata": {},
     "output_type": "execute_result"
    }
   ],
   "source": [
    "countFilter(wavelength,desg_w,desg_t)"
   ]
  },
  {
   "cell_type": "code",
   "execution_count": 15,
   "metadata": {
    "collapsed": true
   },
   "outputs": [],
   "source": [
    "## This just creates a dictionary of my preferred colours for the DES filters.\n",
    "## This is different to mat_smith_c, which is mainly purple and mustard colours.\n",
    "mat_c = {'g':'#4CAF50','r':'#FF9800','i':'#f44336','z':'#607D8B'}"
   ]
  },
  {
   "cell_type": "code",
   "execution_count": 16,
   "metadata": {},
   "outputs": [
    {
     "data": {
      "image/png": "[encoded data removed]",
      "text/plain": [
       "<matplotlib.figure.Figure at 0x111364470>"
      ]
     },
     "metadata": {},
     "output_type": "display_data"
    }
   ],
   "source": [
    "## Plotting it all up\n",
    "\n",
    "ax1 = plt.subplot(111)\n",
    "ax1.plot(wavelength,F_lam, label=r'F$_\\lambda$')\n",
    "#ax1.set_xscale('log')\n",
    "legend=ax1.legend(loc=2, frameon=True)\n",
    "frame=legend.get_frame()\n",
    "frame.set_facecolor('#E0E0E0')\n",
    "ax1.set_ylabel(r'Flux (erg s$^{-1}$ cm$^{-2}$ $\\mathrm{\\AA}^{-1}$)')\n",
    "ax1.set_xlabel(r'Wavelength ($\\mathrm{\\AA}$)')\n",
    "\n",
    "ax2 = plt.twinx(ax1)\n",
    "ax2.plot(desg_w,desg_t, label='DES g',c=mat_c['g'])\n",
    "ax2.plot(desr_w,desr_t, label='DES r',c=mat_c['r'])\n",
    "ax2.plot(desi_w,desi_t, label='DES i',c=mat_c['i'])\n",
    "ax2.plot(desz_w,desz_t, label='DES z',c=mat_c['z'])\n",
    "ax2.set_ylim(0,1)\n",
    "ax2.set_ylabel('Filter transmission')\n",
    "\n",
    "ax2.set_xlim(min(desg_w),max(desz_w))\n",
    "ax1.set_ylim(0,1e-8)\n",
    "legend=ax2.legend(loc=1, frameon=True)\n",
    "frame=legend.get_frame()\n",
    "frame.set_facecolor('#E0E0E0')"
   ]
  },
  {
   "cell_type": "markdown",
   "metadata": {},
   "source": [
    "# SDSS Filters"
   ]
  },
  {
   "cell_type": "code",
   "execution_count": 22,
   "metadata": {
    "collapsed": true
   },
   "outputs": [],
   "source": [
    "sdssu_w, sdssu_t = np.loadtxt('../pycoco_filters/SDSS_u.dat', unpack=True, dtype=float)\n",
    "sdssg_w, sdssg_t = np.loadtxt('../pycoco_filters/SDSS_g.dat', unpack=True, dtype=float)\n",
    "sdssr_w, sdssr_t = np.loadtxt('../pycoco_filters/SDSS_r.dat', unpack=True, dtype=float)\n",
    "sdssi_w, sdssi_t = np.loadtxt('../pycoco_filters/SDSS_i.dat', unpack=True, dtype=float)\n",
    "sdssz_w, sdssz_t = np.loadtxt('../pycoco_filters/SDSS_z.dat', unpack=True, dtype=float)"
   ]
  },
  {
   "cell_type": "code",
   "execution_count": 23,
   "metadata": {
    "collapsed": true
   },
   "outputs": [],
   "source": [
    "flux_sdssg = fluxLamFilter(wavelength,sdssg_w, sdssg_t)\n",
    "flux_sdssr = fluxLamFilter(wavelength,sdssr_w, sdssr_t)\n",
    "flux_sdssi = fluxLamFilter(wavelength,sdssi_w, sdssi_t)\n",
    "flux_sdssz = fluxLamFilter(wavelength,sdssz_w, sdssz_t)"
   ]
  },
  {
   "cell_type": "code",
   "execution_count": 24,
   "metadata": {},
   "outputs": [
    {
     "data": {
      "image/png": "[encoded data removed]",
      "text/plain": [
       "<matplotlib.figure.Figure at 0x11a338d68>"
      ]
     },
     "metadata": {},
     "output_type": "display_data"
    }
   ],
   "source": [
    "## Plotting it all up\n",
    "\n",
    "ax1 = plt.subplot(111)\n",
    "ax1.plot(wavelength,F_lam, label=r'F$_\\lambda$')\n",
    "#ax1.set_xscale('log')\n",
    "legend=ax1.legend(loc=2, frameon=True)\n",
    "frame=legend.get_frame()\n",
    "frame.set_facecolor('#E0E0E0')\n",
    "ax1.set_ylabel(r'Flux (erg s$^{-1}$ cm$^{-2}$ $\\mathrm{\\AA}^{-1}$)')\n",
    "ax1.set_xlabel(r'Wavelength ($\\mathrm{\\AA}$)')\n",
    "\n",
    "ax2 = plt.twinx(ax1)\n",
    "ax2.plot(sdssg_w, sdssg_t, label='SDSS g',c=mat_c['g'])\n",
    "ax2.plot(sdssr_w, sdssr_t, label='SDSS r',c=mat_c['r'])\n",
    "ax2.plot(sdssi_w, sdssi_t, label='SDSS i',c=mat_c['i'])\n",
    "ax2.plot(sdssz_w, sdssz_t, label='SDSS z',c=mat_c['z'])\n",
    "ax2.set_ylim(0,1)\n",
    "ax2.set_ylabel('Filter transmission')\n",
    "\n",
    "ax2.set_xlim(min(sdssg_w),max(sdssz_w))\n",
    "ax1.set_ylim(0,1e-8)\n",
    "legend=ax2.legend(loc=1, frameon=True)\n",
    "frame=legend.get_frame()\n",
    "frame.set_facecolor('#E0E0E0')"
   ]
  }
 ],
 "metadata": {
  "kernelspec": {
   "display_name": "Python 3",
   "language": "python",
   "name": "python3"
  },
  "language_info": {
   "codemirror_mode": {
    "name": "ipython",
    "version": 3
   },
   "file_extension": ".py",
   "mimetype": "text/x-python",
   "name": "python",
   "nbconvert_exporter": "python",
   "pygments_lexer": "ipython3",
   "version": "3.6.8"
  }
 },
 "nbformat": 4,
 "nbformat_minor": 2
}
