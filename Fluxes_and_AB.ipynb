{
 "cells": [
  {
   "cell_type": "markdown",
   "metadata": {},
   "source": [
    "<script type=\"text/javascript\" async\n",
    "  src=\"https://cdn.mathjax.org/mathjax/latest/MathJax.js?config=TeX-MML-AM_CHTML\">\n",
    "</script>\n",
    "# Flux\n",
    "\n",
    "The luminosity of an object can be though of as the total amount of energy radiating spherically from the source across all wavelengths per unit time (units: J s$^{-1}$ or W).\n",
    "\n",
    "However, astronomers are at large distances from their sources, where it is impossible to collect and measure all this energy. We only ever see a fraction of this energy depending on how far away from the source we are and how large our detector is.\n",
    "\n",
    "We call this the Flux, and it has units of J s$^{-1}$ m$^{-2}$ (or W m$^{-2}$). Flux follows the inverse sqaure law, hence when we are 2x further from a source we collect 4x less energy.\n",
    "\n",
    "For every square meter (or cm) of the detector located at R meters (or cm) from a spherically radiating source of luminosity L, we measure flux of\n",
    "\n",
    "\\begin{equation*}\n",
    "\\mathrm{F} = \\frac{\\mathrm{L}}{4 \\pi \\mathrm{R}^{2}}\n",
    "\\end{equation*}\n",
    "\n",
    "However, I previously said that the luminosity is measured across all wavelengths thus, our above calculation of flux is also across all wavelengths. This is known as _bolometric flux_ and, from an engineering perspective, it is impossible to build a detector to measure this. In reality astronomers will use a detector to operate across a certain wavelength (energy) range. Bolometric flux is\n",
    "\n",
    "\\begin{equation*}\n",
    "\\mathrm{F}_{\\mathrm{bolometric}} = \\int_{0}^{\\infty} \\mathrm{F}_{\\nu}\\  \\mathrm{d}\\nu =  \\int_{0}^{\\infty} \\mathrm{F}_{\\lambda}\\  \\mathrm{d}\\lambda\n",
    "\\end{equation*}\n",
    "\n",
    "\n",
    "where $\\mathrm{F}_{\\nu}$ is in frequency units of W m$^{-2}$ Hz$^{-1}$ and $\\mathrm{F}_{\\lambda}$ is in wavelength units of W m$^{-2}$ A$^{-1}$ (A is the unit of angstrom, 1A = 10$^{-10}$m)\n",
    "\n",
    "We can calculate our flux through a certain frequency or wavelength range by changing the limits of our integration. This is useful in the context of real-world measurement where our detectors have a known sensitivity window.\n",
    "\n",
    "## Converting units\n",
    "\n",
    "Sometimes we are given measurements in one unit and require a conversion to a different one.\n",
    "\n",
    "\\begin{equation*}\n",
    "\\mathrm{F}_{\\nu}\\  \\mathrm{d}\\nu =  \\mathrm{F}_{\\lambda}\\  \\mathrm{d}\\lambda\n",
    "\\end{equation*}\n",
    "\n",
    "we also know that\n",
    "\n",
    "\\begin{equation*}\n",
    "\\mathrm{c} =  \\lambda\\nu\n",
    "\\end{equation*}\n",
    "\n",
    "therefore:\n",
    "\n",
    "\\begin{equation*}\n",
    "\\mathrm{F}_{\\lambda} =  \\mathrm{F}_{\\nu}\\  \\frac{\\lambda^{2}}{c}\n",
    "\\end{equation*}\n",
    "\n",
    "and\n",
    "\n",
    "\\begin{equation*}\n",
    "\\mathrm{F}_{\\nu} =  \\mathrm{F}_{\\lambda}\\  \\frac{c}{\\lambda^{2}}\n",
    "\\end{equation*}\n",
    "\n",
    "## cgs units\n",
    "\n",
    "The centimeter-gram-second units are an SI system. I don't know much about the origin, only that astronomers like it and you have to get used to it. Your friends from other STEM disciplines will mock you for measuring the speed of light in cm/s, and literally no-one educated this side of the Cold-War will know what an erg is. So here are some useful conversions:\n",
    "\n",
    "| Quantity            \t| Quantity symbol \t| CGS unit name         \t| Unit    \t| Unit definition    \t| Unit definition \t|\n",
    "|---------------------\t|-----------------\t|-----------------------\t|---------\t|--------------------\t|-----------------\t|\n",
    "| length, position    \t| L, x            \t| centimetre            \t| cm      \t| 1/100 of metre     \t| = 10−2 m        \t|\n",
    "| mass                \t| m               \t| gram                  \t| g       \t| 1/1000 of kilogram \t| = 10−3 kg       \t|\n",
    "| time                \t| t               \t| second                \t| s       \t| 1 second           \t| = 1 s           \t|\n",
    "| velocity            \t| v               \t| centimetre per second \t| cm/s    \t| cm/s               \t| = 10−2 m/s      \t|\n",
    "| acceleration        \t| a               \t| gal                   \t| Gal     \t| cm/s2              \t| = 10−2 m/s2     \t|\n",
    "| force               \t| F               \t| dyne                  \t| dyn     \t| g⋅cm/s2            \t| = 10−5 N        \t|\n",
    "| energy              \t| E               \t| erg                   \t| erg     \t| g⋅cm2/s2           \t| = 10−7 J        \t|\n",
    "| power               \t| P               \t| erg per second        \t| erg/s   \t| g⋅cm2/s3           \t| = 10−7 W        \t|\n",
    "| pressure            \t| p               \t| barye                 \t| Ba      \t| g/(cm⋅s2)          \t| = 10−1 Pa       \t|\n",
    "| dynamic viscosity   \t| μ               \t| poise                 \t| P       \t| g/(cm⋅s)           \t| = 10−1 Pa⋅s     \t|\n",
    "| kinematic viscosity \t| ν               \t| stokes                \t| St      \t| cm2/s              \t| = 10−4 m2/s     \t|\n",
    "| wavenumber          \t| k               \t| kayser (K)            \t| cm−1[8] \t| cm−1               \t| = 100 m−1       \t|\n",
    "\n",
    "**Important Note:** Astronomers are always using the Jansky (Jy), which is a unit of spectral flux density.\n",
    "\n",
    "1Jy = 10$^{-26}$ W m$^{-2}$ Hz$^{-1}$\n",
    "\n",
    "or in cgs units:\n",
    "\n",
    "1Jy = 10$^{-23}$ erg s$^{-1}$ cm$^{-2}$ Hz$^{-1}$"
   ]
  },
  {
   "cell_type": "code",
   "execution_count": 1,
   "metadata": {
    "collapsed": true
   },
   "outputs": [],
   "source": [
    "## Here we load up some modules we will need for this work\n",
    "import numpy as np\n",
    "import astropy.units as u\n",
    "import astropy.constants as const\n",
    "import matplotlib.pyplot as plt\n",
    "%matplotlib inline"
   ]
  },
  {
   "cell_type": "code",
   "execution_count": 2,
   "metadata": {
    "collapsed": true
   },
   "outputs": [],
   "source": [
    "## F_nu is our reference specrtral flux density\n",
    "F_nu = 3631e-23*(u.erg/u.s/u.cm**2/u.Hz) #in cgs erg/s/cm^2/Hz\n",
    "\n",
    "## The wavelength range we will perform our calculations over\n",
    "## strictly speaking this should be 0 to infinty, but who has time for that?\n",
    "## np.linspace(lower, upper, num_steps)\n",
    "wavelength = np.linspace(1000,13000,10000)*u.AA #u.AA tells astropy these are in units of angstrom"
   ]
  },
  {
   "cell_type": "code",
   "execution_count": 3,
   "metadata": {
    "collapsed": true
   },
   "outputs": [],
   "source": [
    "## Converting F_nu to F_lambda\n",
    "F_lam = (F_nu*const.c.cgs/((wavelength)**2.)).to(u.erg/u.s/u.cm**2/u.AA)"
   ]
  },
  {
   "cell_type": "code",
   "execution_count": 4,
   "metadata": {},
   "outputs": [
    {
     "data": {
      "text/latex": [
       "$[1.0885464 \\times 10^{-7},~1.0859383 \\times 10^{-7},~1.0833396 \\times 10^{-7},~\\dots,~6.4434822 \\times 10^{-10},~6.4422925 \\times 10^{-10},~6.441103 \\times 10^{-10}] \\; \\mathrm{\\frac{erg}{\\mathring{A}\\,s\\,cm^{2}}}$"
      ],
      "text/plain": [
       "<Quantity [1.08854641e-07, 1.08593834e-07, 1.08333962e-07, ...,\n",
       "           6.44348220e-10, 6.44229246e-10, 6.44110305e-10] erg / (Angstrom cm2 s)>"
      ]
     },
     "execution_count": 4,
     "metadata": {},
     "output_type": "execute_result"
    }
   ],
   "source": [
    "F_lam"
   ]
  },
  {
   "cell_type": "code",
   "execution_count": 5,
   "metadata": {
    "collapsed": true
   },
   "outputs": [],
   "source": [
    "## Converting to Photon counts - \n",
    "F_cnt = (F_lam.value*wavelength.value)/(const.c.cgs.value*const.h.cgs.value)"
   ]
  },
  {
   "cell_type": "code",
   "execution_count": 6,
   "metadata": {
    "collapsed": true
   },
   "outputs": [],
   "source": [
    "F_cnt2 = ((F_lam*wavelength)/(const.c.cgs*const.h.cgs)).to(1/u.s/u.cm**2/u.AA)"
   ]
  },
  {
   "cell_type": "code",
   "execution_count": 7,
   "metadata": {},
   "outputs": [
    {
     "data": {
      "text/plain": [
       "547986963325.2474"
      ]
     },
     "execution_count": 7,
     "metadata": {},
     "output_type": "execute_result"
    }
   ],
   "source": [
    "F_cnt[0]"
   ]
  },
  {
   "cell_type": "code",
   "execution_count": 8,
   "metadata": {},
   "outputs": [
    {
     "data": {
      "text/latex": [
       "$5479.8696 \\; \\mathrm{\\frac{1}{\\mathring{A}\\,s\\,cm^{2}}}$"
      ],
      "text/plain": [
       "<Quantity 5479.86963325 1 / (Angstrom cm2 s)>"
      ]
     },
     "execution_count": 8,
     "metadata": {},
     "output_type": "execute_result"
    }
   ],
   "source": [
    "F_cnt2[0]"
   ]
  },
  {
   "cell_type": "code",
   "execution_count": 9,
   "metadata": {},
   "outputs": [
    {
     "data": {
      "text/latex": [
       "$1 \\times 10^{8} \\; \\mathrm{cm^{2}\\,\\mathring{A}\\,s}$"
      ],
      "text/plain": [
       "<Quantity 1.e+08 Angstrom cm2 s>"
      ]
     },
     "execution_count": 9,
     "metadata": {},
     "output_type": "execute_result"
    }
   ],
   "source": [
    "F_cnt[0]/F_cnt2[0]"
   ]
  },
  {
   "cell_type": "code",
   "execution_count": 10,
   "metadata": {
    "collapsed": true
   },
   "outputs": [],
   "source": [
    "## We are loading up our filters here, I'm using the DES filters for this demo\n",
    "## The first column MUST be wavelngth\n",
    "## The second column MUST be the system transmission fraction\n",
    "desg_w, desg_t = np.loadtxt('./filters/DES_20130322_g.fil', unpack=True, dtype=float,skiprows=1)\n",
    "desr_w, desr_t = np.loadtxt('./filters/DES_20130322_r.fil', unpack=True, dtype=float,skiprows=1)\n",
    "desi_w, desi_t = np.loadtxt('./filters/DES_20130322_i.fil', unpack=True, dtype=float,skiprows=1)\n",
    "desz_w, desz_t = np.loadtxt('./filters/DES_20130322_z.fil', unpack=True, dtype=float,skiprows=1)"
   ]
  },
  {
   "cell_type": "code",
   "execution_count": 11,
   "metadata": {
    "collapsed": true
   },
   "outputs": [],
   "source": [
    "## In this cell I perform an interpolation to get the \n",
    "## DES transmission funciton onto the wavelength space.\n",
    "## The np.interp function takes my known values for the\n",
    "## DES filter range (desg_w) and transmission function (desg_t)\n",
    "## and then maps that onto our previously defined wavelength\n",
    "## range. We have to do this because our F_lam is also defined\n",
    "## over this rage, so we can multiply F_lam by our transmission\n",
    "## function. So filt_int is 0 everywhere outside the filter and\n",
    "## scaled accordingly inside the filter\n",
    "## np.trapz then integrates through the filter to get the total\n",
    "## flux. Easy!\n",
    "\n",
    "## g\n",
    "# filt_int = np.interp(wavelength, desg_w,desg_t)\n",
    "# filtspec = filt_int*F_lam\n",
    "# fluxg = np.trapz(filtspec,wavelength)\n",
    "\n",
    "# ##r\n",
    "# filt_int = np.interp(wavelength, desr_w,desr_t)\n",
    "# filtspec = filt_int*F_lam\n",
    "# fluxr = np.trapz(filtspec,wavelength)\n",
    "\n",
    "# ##i\n",
    "# filt_int = np.interp(wavelength, desi_w,desi_t)\n",
    "# filtspec = filt_int*F_lam\n",
    "# fluxi = np.trapz(filtspec,wavelength)\n",
    "\n",
    "# ##z\n",
    "# filt_int = np.interp(wavelength, desz_w,desz_t)\n",
    "# filtspec = filt_int*F_lam\n",
    "# fluxz = np.trapz(filtspec,wavelength)\n",
    "\n",
    "## Rather than define this for each filter I should write a generic function to do it.\n",
    "## A job for V2\n",
    "\n",
    "def fluxLamFilter(wave, filt_wave, fil_trans, F_lam=F_lam):\n",
    "    filt_int = np.interp(wave, filt_wave, fil_trans, left=0, right=0)\n",
    "    filtspec = filt_int*F_lam\n",
    "    fluxFilt = np.trapz(filtspec,wave)\n",
    "    if type(fluxFilt)==u.quantity.Quantity:\n",
    "        return fluxFilt.value\n",
    "    else: return float(fluxFilt)\n",
    "\n",
    "def countFilter(wave, filt_wave, fil_trans, F_cnt=F_cnt):\n",
    "    filt_int = np.interp(wave, filt_wave, fil_trans)\n",
    "    filtspec = filt_int*F_cnt\n",
    "    countFilt = np.trapz(filtspec,wave)\n",
    "    if type(countFilt)==u.quantity.Quantity:\n",
    "        return countFilt.value\n",
    "    else: return float(countFilt)"
   ]
  },
  {
   "cell_type": "code",
   "execution_count": 13,
   "metadata": {},
   "outputs": [],
   "source": [
    "fluxg = fluxLamFilter(wavelength,desg_w,desg_t)\n",
    "fluxr = fluxLamFilter(wavelength,desr_w,desr_t)\n",
    "fluxi = fluxLamFilter(wavelength,desi_w,desi_t)\n",
    "fluxz = fluxLamFilter(wavelength,desz_w,desz_t)\n",
    "\n",
    "#fluxSDSSr = fluxLamFilter(wavelength,sdssr.wave,sdssr.trans)\n",
    "#fluxB = fluxLamFilter(wavelength,B.wave,B.trans)"
   ]
  },
  {
   "cell_type": "code",
   "execution_count": 14,
   "metadata": {},
   "outputs": [
    {
     "data": {
      "text/plain": [
       "52842417741185.38"
      ]
     },
     "execution_count": 14,
     "metadata": {},
     "output_type": "execute_result"
    }
   ],
   "source": [
    "countFilter(wavelength,desg_w,desg_t)"
   ]
  },
  {
   "cell_type": "code",
   "execution_count": 15,
   "metadata": {
    "collapsed": true
   },
   "outputs": [],
   "source": [
    "## This just creates a dictionary of my preferred colours for the DES filters.\n",
    "## This is different to mat_smith_c, which is mainly purple and mustard colours.\n",
    "mat_c = {'g':'#4CAF50','r':'#FF9800','i':'#f44336','z':'#607D8B'}"
   ]
  },
  {
   "cell_type": "code",
   "execution_count": 16,
   "metadata": {},
   "outputs": [
    {
     "data": {
      "image/png": "[encoded data removed]",
      "text/plain": [
       "<matplotlib.figure.Figure at 0x111364470>"
      ]
     },
     "metadata": {},
     "output_type": "display_data"
    }
   ],
   "source": [
    "## Plotting it all up\n",
    "\n",
    "ax1 = plt.subplot(111)\n",
    "ax1.plot(wavelength,F_lam, label=r'F$_\\lambda$')\n",
    "#ax1.set_xscale('log')\n",
    "legend=ax1.legend(loc=2, frameon=True)\n",
    "frame=legend.get_frame()\n",
    "frame.set_facecolor('#E0E0E0')\n",
    "ax1.set_ylabel(r'Flux (erg s$^{-1}$ cm$^{-2}$ $\\mathrm{\\AA}^{-1}$)')\n",
    "ax1.set_xlabel(r'Wavelength ($\\mathrm{\\AA}$)')\n",
    "\n",
    "ax2 = plt.twinx(ax1)\n",
    "ax2.plot(desg_w,desg_t, label='DES g',c=mat_c['g'])\n",
    "ax2.plot(desr_w,desr_t, label='DES r',c=mat_c['r'])\n",
    "ax2.plot(desi_w,desi_t, label='DES i',c=mat_c['i'])\n",
    "ax2.plot(desz_w,desz_t, label='DES z',c=mat_c['z'])\n",
    "ax2.set_ylim(0,1)\n",
    "ax2.set_ylabel('Filter transmission')\n",
    "\n",
    "ax2.set_xlim(min(desg_w),max(desz_w))\n",
    "ax1.set_ylim(0,1e-8)\n",
    "legend=ax2.legend(loc=1, frameon=True)\n",
    "frame=legend.get_frame()\n",
    "frame.set_facecolor('#E0E0E0')"
   ]
  },
  {
   "cell_type": "code",
   "execution_count": 18,
   "metadata": {},
   "outputs": [],
   "source": [
    "fluxes = [fluxg,fluxr,fluxi,fluxz]"
   ]
  },
  {
   "cell_type": "markdown",
   "metadata": {},
   "source": [
    "### Flux Zeropoints"
   ]
  },
  {
   "cell_type": "code",
   "execution_count": 19,
   "metadata": {},
   "outputs": [
    {
     "name": "stdout",
     "output_type": "stream",
     "text": [
      "[2.2077522477548397e-06, 1.8809522630978575e-06, 1.4754138005286472e-06, 1.0148110025967672e-06]\n"
     ]
    }
   ],
   "source": [
    "print([x for x in fluxes])"
   ]
  },
  {
   "cell_type": "markdown",
   "metadata": {},
   "source": [
    "### Mag Zeropoints"
   ]
  },
  {
   "cell_type": "code",
   "execution_count": 20,
   "metadata": {},
   "outputs": [
    {
     "name": "stdout",
     "output_type": "stream",
     "text": [
      "[14.14012416099611, 14.314055565797442, 14.577715396532229, 14.984037081993034]\n"
     ]
    }
   ],
   "source": [
    "print([-2.5*np.log10(x) for x in fluxes])"
   ]
  },
  {
   "cell_type": "code",
   "execution_count": 21,
   "metadata": {},
   "outputs": [
    {
     "data": {
      "text/plain": [
       "array([5.47986963e+11, 5.47330102e+11, 5.46674813e+11, ...,\n",
       "       4.21606276e+10, 4.21567351e+10, 4.21528433e+10])"
      ]
     },
     "execution_count": 21,
     "metadata": {},
     "output_type": "execute_result"
    }
   ],
   "source": [
    "F_cnt"
   ]
  },
  {
   "cell_type": "markdown",
   "metadata": {},
   "source": [
    "# SDSS Filters"
   ]
  },
  {
   "cell_type": "code",
   "execution_count": 22,
   "metadata": {
    "collapsed": true
   },
   "outputs": [],
   "source": [
    "sdssu_w, sdssu_t = np.loadtxt('../pycoco_filters/SDSS_u.dat', unpack=True, dtype=float)\n",
    "sdssg_w, sdssg_t = np.loadtxt('../pycoco_filters/SDSS_g.dat', unpack=True, dtype=float)\n",
    "sdssr_w, sdssr_t = np.loadtxt('../pycoco_filters/SDSS_r.dat', unpack=True, dtype=float)\n",
    "sdssi_w, sdssi_t = np.loadtxt('../pycoco_filters/SDSS_i.dat', unpack=True, dtype=float)\n",
    "sdssz_w, sdssz_t = np.loadtxt('../pycoco_filters/SDSS_z.dat', unpack=True, dtype=float)"
   ]
  },
  {
   "cell_type": "code",
   "execution_count": 23,
   "metadata": {
    "collapsed": true
   },
   "outputs": [],
   "source": [
    "flux_sdssg = fluxLamFilter(wavelength,sdssg_w, sdssg_t)\n",
    "flux_sdssr = fluxLamFilter(wavelength,sdssr_w, sdssr_t)\n",
    "flux_sdssi = fluxLamFilter(wavelength,sdssi_w, sdssi_t)\n",
    "flux_sdssz = fluxLamFilter(wavelength,sdssz_w, sdssz_t)"
   ]
  },
  {
   "cell_type": "code",
   "execution_count": 24,
   "metadata": {},
   "outputs": [
    {
     "data": {
      "image/png": "[encoded data removed]",
      "text/plain": [
       "<matplotlib.figure.Figure at 0x11a338d68>"
      ]
     },
     "metadata": {},
     "output_type": "display_data"
    }
   ],
   "source": [
    "## Plotting it all up\n",
    "\n",
    "ax1 = plt.subplot(111)\n",
    "ax1.plot(wavelength,F_lam, label=r'F$_\\lambda$')\n",
    "#ax1.set_xscale('log')\n",
    "legend=ax1.legend(loc=2, frameon=True)\n",
    "frame=legend.get_frame()\n",
    "frame.set_facecolor('#E0E0E0')\n",
    "ax1.set_ylabel(r'Flux (erg s$^{-1}$ cm$^{-2}$ $\\mathrm{\\AA}^{-1}$)')\n",
    "ax1.set_xlabel(r'Wavelength ($\\mathrm{\\AA}$)')\n",
    "\n",
    "ax2 = plt.twinx(ax1)\n",
    "ax2.plot(sdssg_w, sdssg_t, label='SDSS g',c=mat_c['g'])\n",
    "ax2.plot(sdssr_w, sdssr_t, label='SDSS r',c=mat_c['r'])\n",
    "ax2.plot(sdssi_w, sdssi_t, label='SDSS i',c=mat_c['i'])\n",
    "ax2.plot(sdssz_w, sdssz_t, label='SDSS z',c=mat_c['z'])\n",
    "ax2.set_ylim(0,1)\n",
    "ax2.set_ylabel('Filter transmission')\n",
    "\n",
    "ax2.set_xlim(min(sdssg_w),max(sdssz_w))\n",
    "ax1.set_ylim(0,1e-8)\n",
    "legend=ax2.legend(loc=1, frameon=True)\n",
    "frame=legend.get_frame()\n",
    "frame.set_facecolor('#E0E0E0')"
   ]
  },
  {
   "cell_type": "code",
   "execution_count": 25,
   "metadata": {},
   "outputs": [
    {
     "ename": "AttributeError",
     "evalue": "'float' object has no attribute 'value'",
     "output_type": "error",
     "traceback": [
      "\u001b[0;31m---------------------------------------------------------------------------\u001b[0m",
      "\u001b[0;31mAttributeError\u001b[0m                            Traceback (most recent call last)",
      "\u001b[0;32m<ipython-input-25-96b0847b8d52>\u001b[0m in \u001b[0;36m<module>\u001b[0;34m()\u001b[0m\n\u001b[0;32m----> 1\u001b[0;31m \u001b[0mfluxes_sdss\u001b[0m \u001b[0;34m=\u001b[0m \u001b[0;34m[\u001b[0m\u001b[0mflux_sdssg\u001b[0m\u001b[0;34m.\u001b[0m\u001b[0mvalue\u001b[0m\u001b[0;34m,\u001b[0m\u001b[0mflux_sdssr\u001b[0m\u001b[0;34m.\u001b[0m\u001b[0mvalue\u001b[0m\u001b[0;34m,\u001b[0m\u001b[0mflux_sdssi\u001b[0m\u001b[0;34m.\u001b[0m\u001b[0mvalue\u001b[0m\u001b[0;34m,\u001b[0m\u001b[0mflux_sdssz\u001b[0m\u001b[0;34m.\u001b[0m\u001b[0mvalue\u001b[0m\u001b[0;34m]\u001b[0m\u001b[0;34m\u001b[0m\u001b[0m\n\u001b[0m",
      "\u001b[0;31mAttributeError\u001b[0m: 'float' object has no attribute 'value'"
     ]
    }
   ],
   "source": [
    "fluxes_sdss = [flux_sdssg.value,flux_sdssr.value,flux_sdssi.value,flux_sdssz.]"
   ]
  },
  {
   "cell_type": "code",
   "execution_count": 161,
   "metadata": {},
   "outputs": [
    {
     "name": "stdout",
     "output_type": "stream",
     "text": [
      "[5.8088544588201805e-06, 3.181030479800552e-06, 2.142271253566686e-06, 1.5030010863783546e-06]\n"
     ]
    }
   ],
   "source": [
    "print([x for x in fluxes_sdss])"
   ]
  },
  {
   "cell_type": "code",
   "execution_count": 21,
   "metadata": {},
   "outputs": [
    {
     "name": "stdout",
     "output_type": "stream",
     "text": [
      "[13.08977376165119, 13.743580423941925, 14.172813849553185, 14.557601763755695]\n"
     ]
    }
   ],
   "source": [
    "print([-2.5*np.log10(x) for x in fluxes_sdss])"
   ]
  },
  {
   "cell_type": "markdown",
   "metadata": {},
   "source": [
    "# Testing Lizi's spectra"
   ]
  },
  {
   "cell_type": "code",
   "execution_count": 22,
   "metadata": {
    "collapsed": true
   },
   "outputs": [],
   "source": [
    "from astropy.io import fits\n",
    "import sncosmo"
   ]
  },
  {
   "cell_type": "code",
   "execution_count": 23,
   "metadata": {
    "collapsed": true
   },
   "outputs": [],
   "source": [
    "sdssr = sncosmo.get_bandpass('sdssr')\n",
    "B = sncosmo.get_bandpass('bessellB')\n",
    "ab = sncosmo.get_magsystem('ab')"
   ]
  },
  {
   "cell_type": "code",
   "execution_count": 24,
   "metadata": {
    "collapsed": true
   },
   "outputs": [],
   "source": [
    "obj1 = fits.open('Lizi_Spec_test/SNIa_z_0.05.fits')\n",
    "obj2 = fits.open('Lizi_Spec_test/SNIa_z_0.25.fits')\n",
    "obj4 = fits.open('Lizi_Spec_test/SNIa_z_0.70.fits')"
   ]
  },
  {
   "cell_type": "code",
   "execution_count": 25,
   "metadata": {
    "collapsed": true
   },
   "outputs": [],
   "source": [
    "wave_SN1 = obj1[1].data['wavelength']\n",
    "flux_SN1 = obj1[1].data['flux']\n",
    "\n",
    "wave_SN2 = obj2[1].data['wavelength']\n",
    "flux_SN2 = obj2[1].data['flux']\n",
    "\n",
    "\n",
    "\n",
    "wave_SN4 = obj4[1].data['wavelength']\n",
    "flux_SN4 = obj4[1].data['flux']"
   ]
  },
  {
   "cell_type": "code",
   "execution_count": 26,
   "metadata": {},
   "outputs": [
    {
     "data": {
      "text/plain": [
       "[<matplotlib.lines.Line2D at 0x114d1f908>]"
      ]
     },
     "execution_count": 26,
     "metadata": {},
     "output_type": "execute_result"
    },
    {
     "data": {
      "image/png": "[encoded data removed]",
      "text/plain": [
       "<matplotlib.figure.Figure at 0x11bcaa978>"
      ]
     },
     "metadata": {},
     "output_type": "display_data"
    }
   ],
   "source": [
    "plt.plot(wave_SN1,flux_SN1)\n",
    "plt.plot(wave_SN2,flux_SN2)\n",
    "plt.plot(wave_SN4,flux_SN4)\n",
    "plt.plot(sdssr.wave, sdssr.trans*0.5*max(flux_SN1), c='red')\n",
    "plt.plot(B.wave, B.trans*0.5*max(flux_SN1), c='purple')"
   ]
  },
  {
   "cell_type": "code",
   "execution_count": 27,
   "metadata": {},
   "outputs": [
    {
     "data": {
      "text/plain": [
       "16.497569428429248"
      ]
     },
     "execution_count": 27,
     "metadata": {},
     "output_type": "execute_result"
    }
   ],
   "source": [
    "-2.5*np.log10(fluxLamFilter(wave_SN4, sdssr.wave, sdssr.trans, F_lam=flux_SN4)) -  2.5*np.log10(ab.zpbandflux('sdssr'))"
   ]
  },
  {
   "cell_type": "code",
   "execution_count": 28,
   "metadata": {},
   "outputs": [
    {
     "data": {
      "text/plain": [
       "493485.66627725837"
      ]
     },
     "execution_count": 28,
     "metadata": {},
     "output_type": "execute_result"
    }
   ],
   "source": [
    "ab.zpbandflux('sdssr')"
   ]
  },
  {
   "cell_type": "code",
   "execution_count": 29,
   "metadata": {},
   "outputs": [
    {
     "data": {
      "text/plain": [
       "4.054750814959628e-13"
      ]
     },
     "execution_count": 29,
     "metadata": {},
     "output_type": "execute_result"
    }
   ],
   "source": [
    "10**((16.5 + 14.480089575588453 )/-2.5)"
   ]
  },
  {
   "cell_type": "code",
   "execution_count": 30,
   "metadata": {},
   "outputs": [
    {
     "data": {
      "text/plain": [
       "19.09144016770706"
      ]
     },
     "execution_count": 30,
     "metadata": {},
     "output_type": "execute_result"
    }
   ],
   "source": [
    "22.5 - 2.5*np.log10(2.309E+01)"
   ]
  },
  {
   "cell_type": "code",
   "execution_count": 31,
   "metadata": {},
   "outputs": [
    {
     "data": {
      "text/plain": [
       "14.23318635681456"
      ]
     },
     "execution_count": 31,
     "metadata": {},
     "output_type": "execute_result"
    }
   ],
   "source": [
    "2.5*np.log10(ab.zpbandflux('sdssr'))"
   ]
  },
  {
   "cell_type": "code",
   "execution_count": 32,
   "metadata": {},
   "outputs": [
    {
     "data": {
      "text/plain": [
       "16.238312547100783"
      ]
     },
     "execution_count": 32,
     "metadata": {},
     "output_type": "execute_result"
    }
   ],
   "source": [
    "-2.5*np.log10(fluxLamFilter(wave_SN1, B.wave, B.trans, F_lam=flux_SN1)) - 13.191133119103737"
   ]
  },
  {
   "cell_type": "code",
   "execution_count": 33,
   "metadata": {},
   "outputs": [
    {
     "data": {
      "text/plain": [
       "-20.94446494258426"
      ]
     },
     "execution_count": 33,
     "metadata": {},
     "output_type": "execute_result"
    }
   ],
   "source": [
    "2.5*np.log10(4.190e-09)"
   ]
  },
  {
   "cell_type": "code",
   "execution_count": 34,
   "metadata": {},
   "outputs": [
    {
     "data": {
      "text/plain": [
       "5.291109536172183e-06"
      ]
     },
     "execution_count": 34,
     "metadata": {},
     "output_type": "execute_result"
    }
   ],
   "source": [
    "5.291109536172183e-06"
   ]
  },
  {
   "cell_type": "code",
   "execution_count": 35,
   "metadata": {},
   "outputs": [
    {
     "data": {
      "text/plain": [
       "1.4492378526945546e-16"
      ]
     },
     "execution_count": 35,
     "metadata": {},
     "output_type": "execute_result"
    }
   ],
   "source": [
    "(10.**(19./-2.5) * 5.291109536172183e-06) / (917.079706883908)"
   ]
  },
  {
   "cell_type": "code",
   "execution_count": 36,
   "metadata": {},
   "outputs": [
    {
     "data": {
      "text/plain": [
       "917.079706883908"
      ]
     },
     "execution_count": 36,
     "metadata": {},
     "output_type": "execute_result"
    }
   ],
   "source": [
    "np.trapz(B.trans,B.wave)"
   ]
  },
  {
   "cell_type": "code",
   "execution_count": 37,
   "metadata": {},
   "outputs": [
    {
     "data": {
      "text/plain": [
       "462.06685600000003"
      ]
     },
     "execution_count": 37,
     "metadata": {},
     "output_type": "execute_result"
    }
   ],
   "source": [
    "np.trapz(desg_t,desg_w)"
   ]
  },
  {
   "cell_type": "code",
   "execution_count": 38,
   "metadata": {},
   "outputs": [
    {
     "data": {
      "text/plain": [
       "4384.772734458257"
      ]
     },
     "execution_count": 38,
     "metadata": {},
     "output_type": "execute_result"
    }
   ],
   "source": [
    "B.wave_eff"
   ]
  },
  {
   "cell_type": "code",
   "execution_count": 39,
   "metadata": {
    "collapsed": true
   },
   "outputs": [],
   "source": [
    "V = sncosmo.get_bandpass('bessellV')"
   ]
  },
  {
   "cell_type": "code",
   "execution_count": 40,
   "metadata": {},
   "outputs": [
    {
     "data": {
      "text/plain": [
       "862.365059449523"
      ]
     },
     "execution_count": 40,
     "metadata": {},
     "output_type": "execute_result"
    }
   ],
   "source": [
    "np.trapz(V.trans,V.wave)"
   ]
  },
  {
   "cell_type": "code",
   "execution_count": 41,
   "metadata": {},
   "outputs": [
    {
     "data": {
      "text/plain": [
       "-86886290358751.53"
      ]
     },
     "execution_count": 41,
     "metadata": {},
     "output_type": "execute_result"
    }
   ],
   "source": [
    "np.trapz(V.trans,(const.c.value/(V.wave/1e10)))"
   ]
  },
  {
   "cell_type": "code",
   "execution_count": 168,
   "metadata": {},
   "outputs": [
    {
     "data": {
      "text/plain": [
       "[<matplotlib.lines.Line2D at 0x10fe49d30>]"
      ]
     },
     "execution_count": 168,
     "metadata": {},
     "output_type": "execute_result"
    },
    {
     "data": {
      "image/png": "[encoded data removed]",
      "text/plain": [
       "<matplotlib.figure.Figure at 0x10677aba8>"
      ]
     },
     "metadata": {},
     "output_type": "display_data"
    }
   ],
   "source": [
    "plt.plot((const.c.value/(V.wave/1e10)),V.trans)"
   ]
  },
  {
   "cell_type": "code",
   "execution_count": 1,
   "metadata": {},
   "outputs": [
    {
     "ename": "NameError",
     "evalue": "name 'np' is not defined",
     "output_type": "error",
     "traceback": [
      "\u001b[0;31m---------------------------------------------------------------------------\u001b[0m",
      "\u001b[0;31mNameError\u001b[0m                                 Traceback (most recent call last)",
      "\u001b[0;32m<ipython-input-1-a4c00f63a95c>\u001b[0m in \u001b[0;36m<module>\u001b[0;34m()\u001b[0m\n\u001b[0;32m----> 1\u001b[0;31m \u001b[0mnp\u001b[0m\u001b[0;34m.\u001b[0m\u001b[0mtrapz\u001b[0m\u001b[0;34m(\u001b[0m\u001b[0mV\u001b[0m\u001b[0;34m.\u001b[0m\u001b[0mtrans\u001b[0m\u001b[0;34m,\u001b[0m \u001b[0mV\u001b[0m\u001b[0;34m.\u001b[0m\u001b[0mwave\u001b[0m\u001b[0;34m)\u001b[0m\u001b[0;34m\u001b[0m\u001b[0m\n\u001b[0m",
      "\u001b[0;31mNameError\u001b[0m: name 'np' is not defined"
     ]
    }
   ],
   "source": [
    "np.trapz(V.trans, V.wave)"
   ]
  },
  {
   "cell_type": "code",
   "execution_count": 172,
   "metadata": {},
   "outputs": [
    {
     "data": {
      "text/plain": [
       "[<matplotlib.lines.Line2D at 0x10ffc9dd8>]"
      ]
     },
     "execution_count": 172,
     "metadata": {},
     "output_type": "execute_result"
    },
    {
     "data": {
      "image/png": "[encoded data removed]",
      "text/plain": [
       "<matplotlib.figure.Figure at 0x10fce99b0>"
      ]
     },
     "metadata": {},
     "output_type": "display_data"
    }
   ],
   "source": [
    "plt.plot((V.wave/1e10),V.trans)"
   ]
  },
  {
   "cell_type": "code",
   "execution_count": 171,
   "metadata": {},
   "outputs": [
    {
     "data": {
      "text/plain": [
       "array([4700., 4800., 4900., 5000., 5100., 5200., 5300., 5400., 5500.,\n",
       "       5600., 5700., 5800., 5900., 6000., 6100., 6200., 6300., 6400.,\n",
       "       6500., 6600., 6700., 6800., 6900., 7000.])"
      ]
     },
     "execution_count": 171,
     "metadata": {},
     "output_type": "execute_result"
    }
   ],
   "source": [
    "V.wave"
   ]
  },
  {
   "cell_type": "code",
   "execution_count": 181,
   "metadata": {},
   "outputs": [
    {
     "data": {
      "text/plain": [
       "array([0.0000e+00, 0.0000e+00, 2.8000e-04, 2.1400e-03, 3.8900e-03,\n",
       "       5.5400e-03, 5.1700e-03, 4.7600e-03, 4.6500e-03, 5.6000e-03,\n",
       "       7.3200e-03, 1.0300e-02, 1.7830e-02, 3.4440e-02, 5.5750e-02,\n",
       "       8.0810e-02, 1.1900e-01, 1.5823e-01, 2.0125e-01, 2.4669e-01,\n",
       "       2.9522e-01, 3.5344e-01, 4.1141e-01, 4.5125e-01, 4.8389e-01,\n",
       "       5.1708e-01, 5.5061e-01, 5.8376e-01, 6.0888e-01, 6.3066e-01,\n",
       "       6.5086e-01, 6.6507e-01, 6.7895e-01, 6.9284e-01, 7.0693e-01,\n",
       "       7.2104e-01, 7.3534e-01, 7.4937e-01, 7.6114e-01, 7.7232e-01,\n",
       "       7.8329e-01, 7.9443e-01, 8.0543e-01, 8.1669e-01, 8.2782e-01,\n",
       "       8.3835e-01, 8.4649e-01, 8.5415e-01, 8.6184e-01, 8.6976e-01,\n",
       "       8.7741e-01, 8.8521e-01, 8.9236e-01, 8.9886e-01, 9.0487e-01,\n",
       "       9.1110e-01, 9.1715e-01, 9.2253e-01, 9.2794e-01, 9.3356e-01,\n",
       "       9.3890e-01, 9.4312e-01, 9.4756e-01, 9.5200e-01, 9.5658e-01,\n",
       "       9.6104e-01, 9.6552e-01, 9.6931e-01, 9.7290e-01, 9.7670e-01,\n",
       "       9.8051e-01, 9.8412e-01, 9.8747e-01, 9.9083e-01, 9.9420e-01,\n",
       "       9.9736e-01, 9.9998e-01, 1.0000e+00, 9.9855e-01, 9.9498e-01,\n",
       "       9.9024e-01, 9.8455e-01, 9.7580e-01, 9.5308e-01, 9.1487e-01,\n",
       "       8.4607e-01, 7.2688e-01, 5.8745e-01, 4.2772e-01, 2.9718e-01,\n",
       "       1.9146e-01, 1.2474e-01, 8.4900e-02, 5.7420e-02, 4.0360e-02,\n",
       "       2.9060e-02, 2.0520e-02, 1.4540e-02, 1.0910e-02, 7.9200e-03,\n",
       "       5.1400e-03, 2.7900e-03, 4.3000e-04, 0.0000e+00, 0.0000e+00])"
      ]
     },
     "execution_count": 181,
     "metadata": {},
     "output_type": "execute_result"
    }
   ],
   "source": [
    "sdssg_t"
   ]
  },
  {
   "cell_type": "code",
   "execution_count": 162,
   "metadata": {
    "collapsed": true
   },
   "outputs": [],
   "source": [
    "def loadFilter(dir, frac=True):\n",
    "    '''In this function, the files cotaining the filter\n",
    "    transmission functions are loaded and returns the wavelengths and\n",
    "    transmission functions\n",
    "    '''\n",
    "    w, t = np.loadtxt(dir, usecols=(0,1), unpack=True, dtype=np.float64)\n",
    "\n",
    "    if max(t)>1.:\n",
    "        t = t/100.\n",
    "\n",
    "    return w, t"
   ]
  },
  {
   "cell_type": "code",
   "execution_count": 163,
   "metadata": {
    "collapsed": true
   },
   "outputs": [],
   "source": [
    "Vw, Vt = loadFilter('../filters/Sullivan_Filters/Bessell_V.dat')\n",
    "Rw, Rt = loadFilter('../filters/Sullivan_Filters/Bessell_R.dat')\n",
    "rw, rt = loadFilter('../filters/Sullivan_Filters/SDSS_sdss_dr7_r.dat') "
   ]
  },
  {
   "cell_type": "code",
   "execution_count": 164,
   "metadata": {},
   "outputs": [
    {
     "data": {
      "text/plain": [
       "3.6577350901227504e-09"
      ]
     },
     "execution_count": 164,
     "metadata": {},
     "output_type": "execute_result"
    }
   ],
   "source": [
    "fluxLamFilter(wavelength.value,V.wave,V.trans) /np.trapz(V.trans, V.wave)"
   ]
  },
  {
   "cell_type": "code",
   "execution_count": 165,
   "metadata": {},
   "outputs": [
    {
     "data": {
      "text/plain": [
       "[<matplotlib.lines.Line2D at 0x11cd0e3c8>]"
      ]
     },
     "execution_count": 165,
     "metadata": {},
     "output_type": "execute_result"
    },
    {
     "data": {
      "image/png": "[encoded data removed]",
      "text/plain": [
       "<matplotlib.figure.Figure at 0x1135be208>"
      ]
     },
     "metadata": {},
     "output_type": "display_data"
    }
   ],
   "source": [
    "plt.plot(Vw, Vt)\n",
    "plt.plot(Rw, Rt)\n",
    "plt.plot(V.wave, V.trans)\n",
    "plt.plot(rw, rt)"
   ]
  },
  {
   "cell_type": "code",
   "execution_count": 191,
   "metadata": {},
   "outputs": [
    {
     "data": {
      "text/plain": [
       "21.354483919259394"
      ]
     },
     "execution_count": 191,
     "metadata": {},
     "output_type": "execute_result"
    }
   ],
   "source": [
    "-2.5*np.log10(fluxLamFilter(wavelength.value, rw, rt)/(np.trapz(rt,rw)))"
   ]
  },
  {
   "cell_type": "code",
   "execution_count": 167,
   "metadata": {},
   "outputs": [
    {
     "data": {
      "text/plain": [
       "88872926593.99652"
      ]
     },
     "execution_count": 167,
     "metadata": {},
     "output_type": "execute_result"
    }
   ],
   "source": [
    "countFilter(wavelength.value, rw, rt)/abs(np.trapz(rw,rt))"
   ]
  },
  {
   "cell_type": "code",
   "execution_count": 168,
   "metadata": {
    "collapsed": true
   },
   "outputs": [],
   "source": [
    "p = type(wavelength)"
   ]
  },
  {
   "cell_type": "code",
   "execution_count": 169,
   "metadata": {},
   "outputs": [
    {
     "data": {
      "text/plain": [
       "True"
      ]
     },
     "execution_count": 169,
     "metadata": {},
     "output_type": "execute_result"
    }
   ],
   "source": [
    "type(wavelength)==u.quantity.Quantity"
   ]
  },
  {
   "cell_type": "code",
   "execution_count": 170,
   "metadata": {},
   "outputs": [
    {
     "data": {
      "text/plain": [
       "astropy.units.quantity.Quantity"
      ]
     },
     "execution_count": 170,
     "metadata": {},
     "output_type": "execute_result"
    }
   ],
   "source": [
    "p"
   ]
  },
  {
   "cell_type": "code",
   "execution_count": 171,
   "metadata": {},
   "outputs": [
    {
     "data": {
      "text/plain": [
       "-18.5"
      ]
     },
     "execution_count": 171,
     "metadata": {},
     "output_type": "execute_result"
    }
   ],
   "source": [
    "-2.5*np.log10(1e-1)-21"
   ]
  },
  {
   "cell_type": "code",
   "execution_count": 180,
   "metadata": {},
   "outputs": [
    {
     "data": {
      "text/plain": [
       "888.7292659399652"
      ]
     },
     "execution_count": 180,
     "metadata": {},
     "output_type": "execute_result"
    }
   ],
   "source": [
    "countFilter(wavelength.value, rw, rt)/abs(np.trapz(rw,rt))"
   ]
  },
  {
   "cell_type": "code",
   "execution_count": 186,
   "metadata": {},
   "outputs": [
    {
     "data": {
      "text/plain": [
       "21.8458"
      ]
     },
     "execution_count": 186,
     "metadata": {},
     "output_type": "execute_result"
    }
   ],
   "source": [
    "np.trapz(rt)"
   ]
  },
  {
   "cell_type": "code",
   "execution_count": 187,
   "metadata": {},
   "outputs": [
    {
     "data": {
      "text/plain": [
       "-24.999999999999993"
      ]
     },
     "execution_count": 187,
     "metadata": {},
     "output_type": "execute_result"
    }
   ],
   "source": [
    "np.trapz(rw,rt)/np.trapz(rt)"
   ]
  },
  {
   "cell_type": "code",
   "execution_count": 188,
   "metadata": {},
   "outputs": [
    {
     "data": {
      "text/plain": [
       "-546.1449999999999"
      ]
     },
     "execution_count": 188,
     "metadata": {},
     "output_type": "execute_result"
    }
   ],
   "source": [
    "np.trapz(rw,rt)"
   ]
  },
  {
   "cell_type": "code",
   "execution_count": 189,
   "metadata": {},
   "outputs": [
    {
     "data": {
      "text/plain": [
       "array([5380., 5405., 5430., 5455., 5480., 5505., 5530., 5555., 5580.,\n",
       "       5605., 5630., 5655., 5680., 5705., 5730., 5755., 5780., 5805.,\n",
       "       5830., 5855., 5880., 5905., 5930., 5955., 5980., 6005., 6030.,\n",
       "       6055., 6080., 6105., 6130., 6155., 6180., 6205., 6230., 6255.,\n",
       "       6280., 6305., 6330., 6355., 6380., 6405., 6430., 6455., 6480.,\n",
       "       6505., 6530., 6555., 6580., 6605., 6630., 6655., 6680., 6705.,\n",
       "       6730., 6755., 6780., 6805., 6830., 6855., 6880., 6905., 6930.,\n",
       "       6955., 6980., 7005., 7030., 7055., 7080., 7105., 7130., 7155.,\n",
       "       7180., 7205., 7230.])"
      ]
     },
     "execution_count": 189,
     "metadata": {},
     "output_type": "execute_result"
    }
   ],
   "source": [
    "rw"
   ]
  },
  {
   "cell_type": "code",
   "execution_count": 195,
   "metadata": {},
   "outputs": [
    {
     "data": {
      "text/plain": [
       "2.8721454685692486e-09"
      ]
     },
     "execution_count": 195,
     "metadata": {},
     "output_type": "execute_result"
    }
   ],
   "source": [
    "fluxLamFilter(wavelength.value, rw, rt)/np.trapz(rt,rw)"
   ]
  },
  {
   "cell_type": "code",
   "execution_count": 198,
   "metadata": {},
   "outputs": [
    {
     "data": {
      "text/plain": [
       "6185.194476741525"
      ]
     },
     "execution_count": 198,
     "metadata": {},
     "output_type": "execute_result"
    }
   ],
   "source": [
    "np.average(rw,weights=rt)"
   ]
  },
  {
   "cell_type": "code",
   "execution_count": null,
   "metadata": {
    "collapsed": true
   },
   "outputs": [],
   "source": [
    "def fluxLamFilter(wave, filt_wave, fil_trans, F_lam=F_lam):\n",
    "    filt_int = np.interp(wave, filt_wave, fil_trans, left=0, right=0)\n",
    "    filtspec = filt_int*F_lam\n",
    "    fluxFilt = np.trapz(filtspec,wave)\n",
    "    if type(fluxFilt)==u.quantity.Quantity:\n",
    "        return fluxFilt.value\n",
    "    else: return float(fluxFilt)\n",
    "\n"
   ]
  },
  {
   "cell_type": "code",
   "execution_count": 205,
   "metadata": {
    "collapsed": true
   },
   "outputs": [],
   "source": [
    "f1 = np.interp(wavelength.value, rw, rt, left=0, right=0)\n",
    "filtspec = f1*F_lam"
   ]
  },
  {
   "cell_type": "code",
   "execution_count": 203,
   "metadata": {},
   "outputs": [
    {
     "data": {
      "text/latex": [
       "$2.8721455 \\times 10^{-9} \\; \\mathrm{\\frac{erg}{s\\,cm^{2}}}$"
      ],
      "text/plain": [
       "<Quantity 2.87214547e-09 erg / (cm2 s)>"
      ]
     },
     "execution_count": 203,
     "metadata": {},
     "output_type": "execute_result"
    }
   ],
   "source": [
    "np.trapz(filtspec,wavelength)/np.trapz(rt,rw)"
   ]
  },
  {
   "cell_type": "code",
   "execution_count": 208,
   "metadata": {},
   "outputs": [
    {
     "data": {
      "text/plain": [
       "0.04550753642544254"
      ]
     },
     "execution_count": 208,
     "metadata": {},
     "output_type": "execute_result"
    }
   ],
   "source": [
    "np.average(f1)"
   ]
  },
  {
   "cell_type": "code",
   "execution_count": 211,
   "metadata": {},
   "outputs": [
    {
     "data": {
      "text/plain": [
       "array([6480.])"
      ]
     },
     "execution_count": 211,
     "metadata": {},
     "output_type": "execute_result"
    }
   ],
   "source": [
    "rw[rt==max(rt)]"
   ]
  },
  {
   "cell_type": "code",
   "execution_count": 212,
   "metadata": {
    "collapsed": true
   },
   "outputs": [],
   "source": [
    "filt_int = np.interp(wavelength, rw, rt, left=0, right=0)\n",
    "filtspec = filt_int*F_lam"
   ]
  },
  {
   "cell_type": "code",
   "execution_count": 215,
   "metadata": {},
   "outputs": [
    {
     "ename": "TypeError",
     "evalue": "Axis must be specified when shapes of a and weights differ.",
     "output_type": "error",
     "traceback": [
      "\u001b[0;31m---------------------------------------------------------------------------\u001b[0m",
      "\u001b[0;31mTypeError\u001b[0m                                 Traceback (most recent call last)",
      "\u001b[0;32m<ipython-input-215-01a1a5d9e5ef>\u001b[0m in \u001b[0;36m<module>\u001b[0;34m()\u001b[0m\n\u001b[0;32m----> 1\u001b[0;31m \u001b[0mnp\u001b[0m\u001b[0;34m.\u001b[0m\u001b[0maverage\u001b[0m\u001b[0;34m(\u001b[0m\u001b[0mrw\u001b[0m\u001b[0;34m,\u001b[0m \u001b[0mweights\u001b[0m\u001b[0;34m=\u001b[0m\u001b[0mfiltspec\u001b[0m\u001b[0;34m.\u001b[0m\u001b[0mvalue\u001b[0m\u001b[0;34m)\u001b[0m\u001b[0;34m\u001b[0m\u001b[0m\n\u001b[0m",
      "\u001b[0;32m/Users/cfrohmaier/anaconda3/lib/python3.6/site-packages/numpy/lib/function_base.py\u001b[0m in \u001b[0;36maverage\u001b[0;34m(a, axis, weights, returned)\u001b[0m\n\u001b[1;32m   1140\u001b[0m             \u001b[0;32mif\u001b[0m \u001b[0maxis\u001b[0m \u001b[0;32mis\u001b[0m \u001b[0;32mNone\u001b[0m\u001b[0;34m:\u001b[0m\u001b[0;34m\u001b[0m\u001b[0m\n\u001b[1;32m   1141\u001b[0m                 raise TypeError(\n\u001b[0;32m-> 1142\u001b[0;31m                     \u001b[0;34m\"Axis must be specified when shapes of a and weights \"\u001b[0m\u001b[0;34m\u001b[0m\u001b[0m\n\u001b[0m\u001b[1;32m   1143\u001b[0m                     \"differ.\")\n\u001b[1;32m   1144\u001b[0m             \u001b[0;32mif\u001b[0m \u001b[0mwgt\u001b[0m\u001b[0;34m.\u001b[0m\u001b[0mndim\u001b[0m \u001b[0;34m!=\u001b[0m \u001b[0;36m1\u001b[0m\u001b[0;34m:\u001b[0m\u001b[0;34m\u001b[0m\u001b[0m\n",
      "\u001b[0;31mTypeError\u001b[0m: Axis must be specified when shapes of a and weights differ."
     ]
    }
   ],
   "source": [
    "np.average(rw, weights=filtspec.value)"
   ]
  },
  {
   "cell_type": "code",
   "execution_count": 216,
   "metadata": {},
   "outputs": [
    {
     "data": {
      "text/plain": [
       "(10000,)"
      ]
     },
     "execution_count": 216,
     "metadata": {},
     "output_type": "execute_result"
    }
   ],
   "source": [
    "filtspec.shape"
   ]
  },
  {
   "cell_type": "code",
   "execution_count": 218,
   "metadata": {},
   "outputs": [
    {
     "data": {
      "text/plain": [
       "6186.798254522246"
      ]
     },
     "execution_count": 218,
     "metadata": {},
     "output_type": "execute_result"
    }
   ],
   "source": [
    "sdssr.wave_eff"
   ]
  },
  {
   "cell_type": "code",
   "execution_count": 220,
   "metadata": {},
   "outputs": [
    {
     "data": {
      "text/plain": [
       "[<matplotlib.lines.Line2D at 0x114cf80f0>]"
      ]
     },
     "execution_count": 220,
     "metadata": {},
     "output_type": "execute_result"
    },
    {
     "data": {
      "image/png": "[encoded data removed]",
      "text/plain": [
       "<matplotlib.figure.Figure at 0x114739e80>"
      ]
     },
     "metadata": {},
     "output_type": "display_data"
    }
   ],
   "source": [
    "plt.plot(sdssr.wave, sdssr.trans)\n",
    "plt.plot(rw,rt)"
   ]
  },
  {
   "cell_type": "code",
   "execution_count": 221,
   "metadata": {},
   "outputs": [
    {
     "data": {
      "text/plain": [
       "5488.893535437893"
      ]
     },
     "execution_count": 221,
     "metadata": {},
     "output_type": "execute_result"
    }
   ],
   "source": [
    "V.wave_eff"
   ]
  },
  {
   "cell_type": "code",
   "execution_count": 222,
   "metadata": {},
   "outputs": [
    {
     "data": {
      "text/plain": [
       "5850.0"
      ]
     },
     "execution_count": 222,
     "metadata": {},
     "output_type": "execute_result"
    }
   ],
   "source": [
    "np.mean(V.wave)"
   ]
  },
  {
   "cell_type": "code",
   "execution_count": 224,
   "metadata": {},
   "outputs": [
    {
     "data": {
      "text/plain": [
       "5850.0"
      ]
     },
     "execution_count": 224,
     "metadata": {},
     "output_type": "execute_result"
    }
   ],
   "source": [
    "Vw.mean()"
   ]
  },
  {
   "cell_type": "code",
   "execution_count": null,
   "metadata": {
    "collapsed": true
   },
   "outputs": [],
   "source": []
  }
 ],
 "metadata": {
  "kernelspec": {
   "display_name": "Python 3",
   "language": "python",
   "name": "python3"
  },
  "language_info": {
   "codemirror_mode": {
    "name": "ipython",
    "version": 3
   },
   "file_extension": ".py",
   "mimetype": "text/x-python",
   "name": "python",
   "nbconvert_exporter": "python",
   "pygments_lexer": "ipython3",
   "version": "3.6.1"
  }
 },
 "nbformat": 4,
 "nbformat_minor": 2
}
