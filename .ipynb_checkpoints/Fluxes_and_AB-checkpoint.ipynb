{
 "cells": [
  {
   "cell_type": "markdown",
   "metadata": {},
   "source": [
    "# Flux Zeropoint calculator"
   ]
  },
  {
   "cell_type": "code",
   "execution_count": 40,
   "metadata": {},
   "outputs": [],
   "source": [
    "import numpy as np\n",
    "import astropy.units as u\n",
    "import astropy.constants as const\n",
    "import matplotlib.pyplot as plt\n",
    "import sncosmo\n",
    "%matplotlib inline"
   ]
  },
  {
   "cell_type": "code",
   "execution_count": 66,
   "metadata": {},
   "outputs": [],
   "source": [
    "F_nu = 3631e-23*(u.erg/u.s/u.cm**2/u.Hz) #in cgs erg/s/cm^2/Hz\n",
    "wavelength = np.linspace(1000,13000,1000)*u.AA"
   ]
  },
  {
   "cell_type": "code",
   "execution_count": 67,
   "metadata": {},
   "outputs": [],
   "source": [
    "F_lam = (F_nu*const.c.cgs/((wavelength)**2.)).to(u.erg/u.s/u.cm**2/u.AA)"
   ]
  },
  {
   "cell_type": "code",
   "execution_count": 68,
   "metadata": {},
   "outputs": [],
   "source": [
    "ab = sncosmo.get_magsystem('ab')\n",
    "desi = sncosmo.get_bandpass('desi')\n",
    "\n",
    "desg_w, desg_t = np.loadtxt('./DES_filters/DES_20130322_g.fil', unpack=True, dtype=float,skiprows=1)\n",
    "desr_w, desr_t = np.loadtxt('./DES_filters/DES_20130322_r.fil', unpack=True, dtype=float,skiprows=1)\n",
    "desi_w, desi_t = np.loadtxt('./DES_filters/DES_20130322_i.fil', unpack=True, dtype=float,skiprows=1)\n",
    "desz_w, desz_t = np.loadtxt('./DES_filters/DES_20130322_z.fil', unpack=True, dtype=float,skiprows=1)"
   ]
  },
  {
   "cell_type": "code",
   "execution_count": 69,
   "metadata": {},
   "outputs": [],
   "source": [
    "filt_int = np.interp(wavelength, desg_w,desg_t)\n",
    "filtspec = filt_int*F_lam\n",
    "fluxg = np.trapz(filtspec,wavelength)\n",
    "\n",
    "filt_int = np.interp(wavelength, desr_w,desr_t)\n",
    "filtspec = filt_int*F_lam\n",
    "fluxr = np.trapz(filtspec,wavelength)\n",
    "\n",
    "filt_int = np.interp(wavelength, desi_w,desi_t)\n",
    "filtspec = filt_int*F_lam\n",
    "fluxi = np.trapz(filtspec,wavelength)\n",
    "\n",
    "filt_int = np.interp(wavelength, desz_w,desz_t)\n",
    "filtspec = filt_int*F_lam\n",
    "fluxz = np.trapz(filtspec,wavelength)"
   ]
  },
  {
   "cell_type": "code",
   "execution_count": 70,
   "metadata": {},
   "outputs": [
    {
     "data": {
      "text/latex": [
       "$3.631 \\times 10^{-20} \\; \\mathrm{\\frac{erg}{Hz\\,s\\,cm^{2}}}$"
      ],
      "text/plain": [
       "<Quantity 3.631e-20 erg / (cm2 Hz s)>"
      ]
     },
     "execution_count": 70,
     "metadata": {},
     "output_type": "execute_result"
    }
   ],
   "source": [
    "F_nu"
   ]
  },
  {
   "cell_type": "code",
   "execution_count": 71,
   "metadata": {},
   "outputs": [],
   "source": [
    "mat_c = {'g':'#4CAF50','r':'#FF9800','i':'#f44336','z':'#607D8B'}"
   ]
  },
  {
   "cell_type": "code",
   "execution_count": 90,
   "metadata": {},
   "outputs": [
    {
     "data": {
      "image/png": "[encoded data removed]",
      "text/plain": [
       "<matplotlib.figure.Figure at 0x11a6bf240>"
      ]
     },
     "metadata": {},
     "output_type": "display_data"
    }
   ],
   "source": [
    "ax1 = plt.subplot(111)\n",
    "ax1.plot(wavelength,F_lam)\n",
    "ax1.set_xscale('log')\n",
    "\n",
    "ax2 = plt.twinx(ax1)\n",
    "ax2.plot(desg_w,desg_t, label='DES g',c=mat_c['g'])\n",
    "ax2.plot(desr_w,desr_t, label='DES r',c=mat_c['r'])\n",
    "ax2.plot(desi_w,desi_t, label='DES i',c=mat_c['i'])\n",
    "ax2.plot(desz_w,desz_t, label='DES z',c=mat_c['z'])\n",
    "ax2.set_ylim(0,1)\n",
    "\n",
    "ax2.set_xlim(min(desg_w),max(desz_w))\n",
    "ax1.set_ylim(0,1e-8)\n",
    "legend=plt.legend(loc='best', frameon=True)\n",
    "frame=legend.get_frame()\n",
    "frame.set_facecolor('#E0E0E0')"
   ]
  },
  {
   "cell_type": "code",
   "execution_count": 74,
   "metadata": {},
   "outputs": [
    {
     "name": "stdout",
     "output_type": "stream",
     "text": [
      "2.207428928641595e-06 erg / (cm2 s) 1.8810232736981793e-06 erg / (cm2 s) 1.4756367039696678e-06 erg / (cm2 s) 1.0147744768288583e-06 erg / (cm2 s)\n"
     ]
    }
   ],
   "source": [
    "print(fluxg,fluxr,fluxi,fluxz)"
   ]
  },
  {
   "cell_type": "code",
   "execution_count": 79,
   "metadata": {},
   "outputs": [
    {
     "data": {
      "text/plain": [
       "2.207428928641595e-06"
      ]
     },
     "execution_count": 79,
     "metadata": {},
     "output_type": "execute_result"
    }
   ],
   "source": [
    "fluxg.value\n"
   ]
  },
  {
   "cell_type": "code",
   "execution_count": 80,
   "metadata": {},
   "outputs": [
    {
     "data": {
      "text/plain": [
       "1.8810232736981793e-06"
      ]
     },
     "execution_count": 80,
     "metadata": {},
     "output_type": "execute_result"
    }
   ],
   "source": [
    "fluxr.value"
   ]
  },
  {
   "cell_type": "code",
   "execution_count": 81,
   "metadata": {},
   "outputs": [
    {
     "data": {
      "text/plain": [
       "1.4756367039696678e-06"
      ]
     },
     "execution_count": 81,
     "metadata": {},
     "output_type": "execute_result"
    }
   ],
   "source": [
    "fluxi.value"
   ]
  },
  {
   "cell_type": "code",
   "execution_count": 82,
   "metadata": {},
   "outputs": [
    {
     "data": {
      "text/plain": [
       "1.0147744768288583e-06"
      ]
     },
     "execution_count": 82,
     "metadata": {},
     "output_type": "execute_result"
    }
   ],
   "source": [
    "fluxz.value"
   ]
  },
  {
   "cell_type": "code",
   "execution_count": null,
   "metadata": {},
   "outputs": [],
   "source": []
  }
 ],
 "metadata": {
  "kernelspec": {
   "display_name": "Python 3",
   "language": "python",
   "name": "python3"
  },
  "language_info": {
   "codemirror_mode": {
    "name": "ipython",
    "version": 3
   },
   "file_extension": ".py",
   "mimetype": "text/x-python",
   "name": "python",
   "nbconvert_exporter": "python",
   "pygments_lexer": "ipython3",
   "version": "3.6.1"
  }
 },
 "nbformat": 4,
 "nbformat_minor": 2
}
